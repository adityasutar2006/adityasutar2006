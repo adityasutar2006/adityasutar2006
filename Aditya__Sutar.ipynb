{
  "nbformat": 4,
  "nbformat_minor": 0,
  "metadata": {
    "colab": {
      "provenance": [],
      "authorship_tag": "ABX9TyP0g7UGBVzeoR5bhUJAYC2k",
      "include_colab_link": true
    },
    "kernelspec": {
      "name": "python3",
      "display_name": "Python 3"
    },
    "language_info": {
      "name": "python"
    }
  },
  "cells": [
    {
      "cell_type": "markdown",
      "metadata": {
        "id": "view-in-github",
        "colab_type": "text"
      },
      "source": [
        "<a href=\"https://colab.research.google.com/github/adityasutar2006/adityasutar2006/blob/main/Aditya__Sutar.ipynb\" target=\"_parent\"><img src=\"https://colab.research.google.com/assets/colab-badge.svg\" alt=\"Open In Colab\"/></a>"
      ]
    },
    {
      "cell_type": "code",
      "execution_count": null,
      "metadata": {
        "id": "wYj5sY0w3GtC"
      },
      "outputs": [],
      "source": [
        "\n",
        "# take a break\n",
        "\n",
        "import time \n",
        "import webbrowser\n",
        "\n",
        "breaks = 4\n",
        "\n",
        "for i in range(breaks):\n",
        "  time.sleep(60*60)\n",
        "  webbrowser.open(\"https://youtu.be/iTDi6J5pkrM\",new=2)"
      ]
    }
  ]
}